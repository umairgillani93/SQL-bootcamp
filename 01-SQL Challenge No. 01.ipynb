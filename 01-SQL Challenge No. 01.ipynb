{
 "cells": [
  {
   "cell_type": "markdown",
   "metadata": {},
   "source": [
    "## SQL Challenge No. 01:\n",
    "\n",
    "__select count(*) from payment\n",
    "where amount > 5;__\n",
    "\n",
    "__select count(*) from actor\n",
    "where first_name ilike 'p%';__\n",
    "\n",
    "__select distinct district  from address;__\n",
    "\n",
    "__select count(title) from film\n",
    "where rating = 'R' and replacement_cost > 5 and replacement_cost < 15;__\n",
    "\n",
    "__select count(*) from film\n",
    "where title ilike '%truman%';__"
   ]
  },
  {
   "cell_type": "code",
   "execution_count": null,
   "metadata": {},
   "outputs": [],
   "source": []
  }
 ],
 "metadata": {
  "kernelspec": {
   "display_name": "Python 3",
   "language": "python",
   "name": "python3"
  },
  "language_info": {
   "codemirror_mode": {
    "name": "ipython",
    "version": 3
   },
   "file_extension": ".py",
   "mimetype": "text/x-python",
   "name": "python",
   "nbconvert_exporter": "python",
   "pygments_lexer": "ipython3",
   "version": "3.7.6"
  }
 },
 "nbformat": 4,
 "nbformat_minor": 4
}
