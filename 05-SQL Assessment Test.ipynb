{
 "cells": [
  {
   "cell_type": "markdown",
   "metadata": {},
   "source": [
    "## SQL Assessment Test:\n",
    "\n",
    "-- Assesment Test # 1\n",
    "\n",
    "__select customer_id, sum(amount) from payment\n",
    "where staff_id = 2\n",
    "group by customer_id\n",
    "having sum(amount) >= 110__\n",
    "\n",
    "__select count(title) from film\n",
    "where title ilike 'J%';__\n",
    "\n",
    "__select first_name, last_name, customer_id from customer\n",
    "where first_name ilike 'E%' and address_id < 500\n",
    "order by customer_id desc\n",
    "limit 1__"
   ]
  },
  {
   "cell_type": "code",
   "execution_count": null,
   "metadata": {},
   "outputs": [],
   "source": []
  }
 ],
 "metadata": {
  "kernelspec": {
   "display_name": "Python 3",
   "language": "python",
   "name": "python3"
  },
  "language_info": {
   "codemirror_mode": {
    "name": "ipython",
    "version": 3
   },
   "file_extension": ".py",
   "mimetype": "text/x-python",
   "name": "python",
   "nbconvert_exporter": "python",
   "pygments_lexer": "ipython3",
   "version": "3.7.6"
  }
 },
 "nbformat": 4,
 "nbformat_minor": 4
}
