{
 "cells": [
  {
   "cell_type": "markdown",
   "metadata": {},
   "source": [
    "## Aggregate Functions & Group By:"
   ]
  },
  {
   "cell_type": "markdown",
   "metadata": {},
   "source": [
    "--Aggreage Functions \n",
    "\n",
    "__select min(replacement_cost), max(replacement_cost) from film;__ \n",
    "\n",
    "__select avg(replacement_cost) from film;__ \n",
    "\n",
    "__select round(avg(replacement_cost), 3) from film;__-- upto 3 decimal places\n",
    "\n",
    "\n",
    "__select round(avg(replacement_cost), 2) from film;__ --upto 2 decimal places\n",
    "\n",
    "\n",
    "--Sum aggregate \n",
    "__select round(sum(replacement_cost), 2)\n",
    "from film;__\n",
    "\n",
    "-- GROUP BY CLAUSE \n",
    "-- GROUP BY allows us to aggregate colums per some category \n",
    "\n",
    "__select customer_id from payment\n",
    "group by customer_id\n",
    "\n",
    "__select customer_id from payment\n",
    "group by customer_id;__\n",
    "\n",
    "__select customer_id from payment\n",
    "group by customer_id\n",
    "order by customer_id;__\n",
    "\n",
    "__customer_id, sum(amount) from payment\n",
    "group by customer_id\n",
    "order by sum(amount) desc;__\n",
    "\n",
    "__select customer_id, count(amount) from payment\n",
    "group by customer_id\n",
    "order by count(amount) desc;__\n",
    "\n",
    "__select customer_id, staff_id, sum(amount) from payment\n",
    "group by staff_id, customer_id\n",
    "order by customer_id desc;__\n",
    "\n",
    "__select date(payment_date) from payment;__\n",
    "\n",
    "__select date(payment_date), sum(amount) from payment\n",
    "group by date(payment_date)\n",
    "order by sum(amount) desc__"
   ]
  },
  {
   "cell_type": "code",
   "execution_count": null,
   "metadata": {},
   "outputs": [],
   "source": []
  }
 ],
 "metadata": {
  "kernelspec": {
   "display_name": "Python 3",
   "language": "python",
   "name": "python3"
  },
  "language_info": {
   "codemirror_mode": {
    "name": "ipython",
    "version": 3
   },
   "file_extension": ".py",
   "mimetype": "text/x-python",
   "name": "python",
   "nbconvert_exporter": "python",
   "pygments_lexer": "ipython3",
   "version": "3.7.6"
  }
 },
 "nbformat": 4,
 "nbformat_minor": 4
}
