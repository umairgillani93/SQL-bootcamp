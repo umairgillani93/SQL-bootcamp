{
 "cells": [
  {
   "cell_type": "markdown",
   "metadata": {},
   "source": [
    "## Timestamp & Extract:\n",
    "\n",
    "SHOW TIMEZONE -- Show the time zone of PC you are working on\n",
    "\n",
    "SELECT NOW() -- Shows the timestamp of (time and date) of the the PC you are working at\n",
    "\n",
    "SELECT TIMEOFDAY() -- show the same information as above functions, but in string\n",
    "\n",
    "SELECT CURRENT_TIME -- shows current time \n",
    "\n",
    "SELECT CURRENT_DATE -- shows current date \n",
    "\n",
    "-- Extract(): Allows you to obtain the sub-section of \"Date\" value\n",
    "-- eg: year, day, month, week or quarter \n",
    "\n",
    "-- Age(): Calculates and returns the current age given a timestamp\n",
    "-- eg: Age(date_column)\n",
    "\n",
    "-- TO_CHAR(): General function to convert data types to text \n",
    "-- eg: TO_CHAR(date_col, 'mm-dd-yyyy')\n",
    "\n",
    "select * from payment\n",
    "\n",
    "select extract(year from payment_date) as year\n",
    "from payment;\n",
    "\n",
    "-- TIMESTAMP & EXTRACT CHALLENG -- \n",
    "\n",
    "select TO_CHAR(payment_date, 'MONTH') as month\n",
    "from payment;\n",
    "\n",
    "select count(*) from payment\n",
    "where extract(dow from payment_date) = 1\n",
    "\n",
    "select count(extract(month from payment_date)) as month_count \n",
    "from payment;\n",
    "\n",
    "select extract(quarter from payment_date) as quarter_year\n",
    "from payment\n",
    "\n",
    "select extract(week from payment_date) as week\n",
    "from payment;\n",
    "\n",
    "-- AGE() --\n",
    "\n",
    "select age(payment_date) as age\n",
    "from payment;\n",
    "\n",
    "-- TO_CHAR() -- \n",
    "\n",
    "select to_char(payment_date, 'dd/mm/yyyy')\n",
    "from payment;\n"
   ]
  },
  {
   "cell_type": "code",
   "execution_count": null,
   "metadata": {},
   "outputs": [],
   "source": []
  }
 ],
 "metadata": {
  "kernelspec": {
   "display_name": "Python 3",
   "language": "python",
   "name": "python3"
  },
  "language_info": {
   "codemirror_mode": {
    "name": "ipython",
    "version": 3
   },
   "file_extension": ".py",
   "mimetype": "text/x-python",
   "name": "python",
   "nbconvert_exporter": "python",
   "pygments_lexer": "ipython3",
   "version": "3.7.6"
  }
 },
 "nbformat": 4,
 "nbformat_minor": 4
}
