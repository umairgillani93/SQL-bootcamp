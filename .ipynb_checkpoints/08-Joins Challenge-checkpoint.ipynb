{
 "cells": [
  {
   "cell_type": "markdown",
   "metadata": {},
   "source": [
    "## Joins Challenge:\n",
    "\n",
    "--------- JOINS CHALLENGE ------\n",
    "\n",
    "select district, email from customer\n",
    "inner join address\n",
    "on customer.address_id = address.address_id\n",
    "where address.district = 'California'\n",
    "\n",
    "\n",
    "select title, first_name, last_name from actor\n",
    "inner join film_actor\n",
    "on actor.actor_id = film_actor.actor_id\n",
    "inner join film\n",
    "on film_actor.film_id = film.film_id\n",
    "where first_name = 'Nick' and last_name = 'Wahlbarg'"
   ]
  },
  {
   "cell_type": "code",
   "execution_count": null,
   "metadata": {},
   "outputs": [],
   "source": []
  }
 ],
 "metadata": {
  "kernelspec": {
   "display_name": "Python 3",
   "language": "python",
   "name": "python3"
  },
  "language_info": {
   "codemirror_mode": {
    "name": "ipython",
    "version": 3
   },
   "file_extension": ".py",
   "mimetype": "text/x-python",
   "name": "python",
   "nbconvert_exporter": "python",
   "pygments_lexer": "ipython3",
   "version": "3.7.6"
  }
 },
 "nbformat": 4,
 "nbformat_minor": 4
}
