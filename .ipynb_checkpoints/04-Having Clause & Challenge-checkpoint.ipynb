{
 "cells": [
  {
   "cell_type": "markdown",
   "metadata": {},
   "source": [
    "## Having Challenge:\n",
    "\n",
    "-- HAVING CHALLENGE \n",
    "\n",
    "__select customer_id, count(payment_id) from payment\n",
    "group by customer_id\n",
    "having count(payment_id) >= 40__\n",
    "\n",
    "__select customer_id, sum(amount) from payment\n",
    "where staff_id = 2\n",
    "group by customer_id\n",
    "having sum(amount) > 100;__"
   ]
  },
  {
   "cell_type": "code",
   "execution_count": null,
   "metadata": {},
   "outputs": [],
   "source": []
  }
 ],
 "metadata": {
  "kernelspec": {
   "display_name": "Python 3",
   "language": "python",
   "name": "python3"
  },
  "language_info": {
   "codemirror_mode": {
    "name": "ipython",
    "version": 3
   },
   "file_extension": ".py",
   "mimetype": "text/x-python",
   "name": "python",
   "nbconvert_exporter": "python",
   "pygments_lexer": "ipython3",
   "version": "3.7.6"
  }
 },
 "nbformat": 4,
 "nbformat_minor": 4
}
