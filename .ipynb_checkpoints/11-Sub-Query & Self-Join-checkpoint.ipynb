{
 "cells": [
  {
   "cell_type": "markdown",
   "metadata": {},
   "source": [
    "## Sub-Query & Self-Join:\n",
    "\n",
    "\n",
    "-- SUB QUERY -- \n",
    "-- A sub-query allows you to contruct complex querries, essentially performing a querry\n",
    "-- on the results of another query.\n",
    "-- Imagine you have a table of scores of students, and you want to know the scores that \n",
    "-- are greater than average scores\n",
    "\n",
    "-- select score from student\n",
    "-- where score > (select avg(score) from student)\n",
    "\n",
    "-- select std, score from student\n",
    "-- where student in ('umair', 'tahir', 'zahid')\n",
    "\n",
    "-- THE EXISTS OPERATOR --\n",
    "-- The EXISTS operator is used to test for existence of rows in a sub-query\n",
    "\n",
    "-- Let's apply soem sub-qurries\n",
    "\n",
    "select title, rental_rate\n",
    "from film\n",
    "where rental_rate > (select round(avg(rental_rate), 3) from film);\n",
    "\n",
    "select title, film_id from film\n",
    "where film_id in (select inventory.film_id from rental\n",
    "inner join inventory\n",
    "on rental.inventory_id = inventory.inventory_id\n",
    "where return_date between '2005-05-29' and '2005-05-30')\n",
    "order by film_id\n",
    "\n",
    "select first_name, last_name\n",
    "from customer as c\n",
    "where exists \n",
    "(select * from payment as p\n",
    "where p.customer_id = c.customer_id\n",
    "and amount > 11)\n",
    "\n",
    "-- SELF JOIN -- \n",
    "-- A self-join is a query in which table is joined to itself\n",
    "-- While using self-join it is necessory to use alias for the tables to avoid mess-up\n",
    "\n",
    "-- select table_A.col, table_B.col\n",
    "-- from table as table_A\n",
    "-- join table as table_B\n",
    "-- on table_A.some_col = table_B.other_col\n",
    "\n",
    "select f1.title, f2.title, f1.length\n",
    "from film as f1\n",
    "inner join film as f2\n",
    "on f1.film_id != f2.film_id\n",
    "and f1.length = f2.length"
   ]
  },
  {
   "cell_type": "code",
   "execution_count": null,
   "metadata": {},
   "outputs": [],
   "source": []
  }
 ],
 "metadata": {
  "kernelspec": {
   "display_name": "Python 3",
   "language": "python",
   "name": "python3"
  },
  "language_info": {
   "codemirror_mode": {
    "name": "ipython",
    "version": 3
   },
   "file_extension": ".py",
   "mimetype": "text/x-python",
   "name": "python",
   "nbconvert_exporter": "python",
   "pygments_lexer": "ipython3",
   "version": "3.7.6"
  }
 },
 "nbformat": 4,
 "nbformat_minor": 4
}
