{
 "cells": [
  {
   "cell_type": "markdown",
   "metadata": {},
   "source": [
    "## AS Clause:\n",
    "\n",
    "-- AS CLAUSE\n",
    "\n",
    "__SELECT count(amount) as num_trasanctions\n",
    "from payment;__\n",
    "\n",
    "__select customer_id, sum(amount) as total_amount_spent\n",
    "from payment\n",
    "group by customer_id\n",
    "having sum(amount) > 50__"
   ]
  },
  {
   "cell_type": "code",
   "execution_count": null,
   "metadata": {},
   "outputs": [],
   "source": []
  }
 ],
 "metadata": {
  "kernelspec": {
   "display_name": "Python 3",
   "language": "python",
   "name": "python3"
  },
  "language_info": {
   "codemirror_mode": {
    "name": "ipython",
    "version": 3
   },
   "file_extension": ".py",
   "mimetype": "text/x-python",
   "name": "python",
   "nbconvert_exporter": "python",
   "pygments_lexer": "ipython3",
   "version": "3.7.6"
  }
 },
 "nbformat": 4,
 "nbformat_minor": 4
}
