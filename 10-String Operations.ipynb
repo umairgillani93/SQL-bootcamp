{
 "cells": [
  {
   "cell_type": "markdown",
   "metadata": {},
   "source": [
    "## String Operations:\n",
    "\n",
    "-- STRING FUNCTIONS AND OPERATIONS --\n",
    "-- PostgreSQL allows us variety of string operations and functions \n",
    "-- that allow us to edit, combine and alter text data columns-- \n",
    "\n",
    "select length(first_name) from customer;\n",
    "\n",
    "select first_name || ' ' || last_name from customer as full_name\n",
    "\n",
    "select upper(first_name) || ' ' || upper(last_name) as full_name_upper_case\n",
    "from customer;\n",
    "\n",
    "select upper(left(first_name, 1)) || ' ' || upper(last_name) || '@gmail.com' as full_name\n",
    "from customer;"
   ]
  },
  {
   "cell_type": "code",
   "execution_count": null,
   "metadata": {},
   "outputs": [],
   "source": []
  }
 ],
 "metadata": {
  "kernelspec": {
   "display_name": "Python 3",
   "language": "python",
   "name": "python3"
  },
  "language_info": {
   "codemirror_mode": {
    "name": "ipython",
    "version": 3
   },
   "file_extension": ".py",
   "mimetype": "text/x-python",
   "name": "python",
   "nbconvert_exporter": "python",
   "pygments_lexer": "ipython3",
   "version": "3.7.6"
  }
 },
 "nbformat": 4,
 "nbformat_minor": 4
}
