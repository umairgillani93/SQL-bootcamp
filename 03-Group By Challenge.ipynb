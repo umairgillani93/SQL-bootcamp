{
 "cells": [
  {
   "cell_type": "markdown",
   "metadata": {},
   "source": [
    "## Group By Challenge:\n",
    "\n",
    "-- GROUP BY CHALLENGE\n",
    "\n",
    "__select count(payment_id), staff_id from payment\n",
    "group by staff_id__\n",
    "\n",
    "__select avg(replacement_cost), rating from film\n",
    "group by rating;__\n",
    "\n",
    "__select sum(amount), customer_id from payment\n",
    "group by customer_id\n",
    "order by sum(amount) desc\n",
    "limit 5__"
   ]
  },
  {
   "cell_type": "code",
   "execution_count": null,
   "metadata": {},
   "outputs": [],
   "source": []
  }
 ],
 "metadata": {
  "kernelspec": {
   "display_name": "Python 3",
   "language": "python",
   "name": "python3"
  },
  "language_info": {
   "codemirror_mode": {
    "name": "ipython",
    "version": 3
   },
   "file_extension": ".py",
   "mimetype": "text/x-python",
   "name": "python",
   "nbconvert_exporter": "python",
   "pygments_lexer": "ipython3",
   "version": "3.7.6"
  }
 },
 "nbformat": 4,
 "nbformat_minor": 4
}
